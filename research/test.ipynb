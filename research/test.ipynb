{
 "cells": [
  {
   "cell_type": "code",
   "execution_count": 29,
   "metadata": {},
   "outputs": [],
   "source": [
    "from src.exception import CustomException\n",
    "from box import ConfigBox\n",
    "import yaml\n",
    "import sys"
   ]
  },
  {
   "cell_type": "code",
   "execution_count": 30,
   "metadata": {},
   "outputs": [],
   "source": [
    "params_path = '../param.yaml'\n",
    "config_path = '../config.yaml'"
   ]
  },
  {
   "cell_type": "code",
   "execution_count": 31,
   "metadata": {},
   "outputs": [],
   "source": [
    "def read_yaml(path_to_yaml:str) -> ConfigBox:\n",
    "    try:\n",
    "        with open(path_to_yaml) as yaml_file:\n",
    "            config = yaml.safe_load(yaml_file)\n",
    "            # logging.info(f'Read the {path_to_yaml} file from {FROM}')\n",
    "            return config\n",
    "    except Exception as e:\n",
    "        raise CustomException(e,sys)"
   ]
  },
  {
   "cell_type": "code",
   "execution_count": 36,
   "metadata": {},
   "outputs": [
    {
     "data": {
      "text/plain": [
       "{'artifacts_root': 'artifacts',\n",
       " 'data_ingestion': {'root_dir': 'artifacts/data_ingestion',\n",
       "  'source_url': 'research/data/stud.csv',\n",
       "  'data_file': 'artifacts/data_ingestion/data.csv',\n",
       "  'train_file': 'artifacts/data_ingestion/train.csv',\n",
       "  'test_file': 'artifacts/data_ingestion/test.csv',\n",
       "  'value': {'arr': 2}},\n",
       " 'data_transformation': {'root_dir': 'artifacts/data_transformation'},\n",
       " 'model_trainer': {'root_dir': 'artifacts/model_trainer'}}"
      ]
     },
     "execution_count": 36,
     "metadata": {},
     "output_type": "execute_result"
    }
   ],
   "source": [
    "config = read_yaml(config_path)\n",
    "config"
   ]
  },
  {
   "cell_type": "code",
   "execution_count": 37,
   "metadata": {},
   "outputs": [
    {
     "data": {
      "text/plain": [
       "{'root_dir': 'artifacts/data_ingestion',\n",
       " 'source_url': 'research/data/stud.csv',\n",
       " 'data_file': 'artifacts/data_ingestion/data.csv',\n",
       " 'train_file': 'artifacts/data_ingestion/train.csv',\n",
       " 'test_file': 'artifacts/data_ingestion/test.csv',\n",
       " 'value': {'arr': 2}}"
      ]
     },
     "execution_count": 37,
     "metadata": {},
     "output_type": "execute_result"
    }
   ],
   "source": [
    "config['data_ingestion']"
   ]
  },
  {
   "cell_type": "code",
   "execution_count": 38,
   "metadata": {},
   "outputs": [
    {
     "data": {
      "text/plain": [
       "dict"
      ]
     },
     "execution_count": 38,
     "metadata": {},
     "output_type": "execute_result"
    }
   ],
   "source": [
    "type(config['data_ingestion'])"
   ]
  }
 ],
 "metadata": {
  "kernelspec": {
   "display_name": "Python 3",
   "language": "python",
   "name": "python3"
  },
  "language_info": {
   "codemirror_mode": {
    "name": "ipython",
    "version": 3
   },
   "file_extension": ".py",
   "mimetype": "text/x-python",
   "name": "python",
   "nbconvert_exporter": "python",
   "pygments_lexer": "ipython3",
   "version": "3.13.2"
  }
 },
 "nbformat": 4,
 "nbformat_minor": 2
}
